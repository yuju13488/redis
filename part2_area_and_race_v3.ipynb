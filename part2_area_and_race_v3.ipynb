{
 "cells": [
  {
   "cell_type": "code",
   "execution_count": 74,
   "metadata": {},
   "outputs": [],
   "source": [
    "import random\n",
    "import time\n",
    "import redis\n",
    "# 與LongDB連線\n",
    "import pyodbc\n",
    "r = redis.Redis(host='192.168.80.166', port=6379)"
   ]
  },
  {
   "cell_type": "code",
   "execution_count": 96,
   "metadata": {},
   "outputs": [],
   "source": [
    "# function from other team member\n",
    "# 使用方程式取得不同運動類型及地區的賽事資料\n",
    "def game(type2,place):\n",
    "    # 篩選賽事類型\n",
    "    type2_dict = {\"ride\":\" '自行車' \",\"run\":\" '路跑' \"}\n",
    "    x = type2_dict.get(type2)\n",
    "    res_list = []\n",
    "    # 篩選賽事區域\n",
    "    if place == 'North':\n",
    "        j = cursor.execute(\"SELECT * FROM SPLICE.RACE_BASIC WHERE 賽事種類 LIKE\"+ x +\"AND 日期 >'2019-01-01'  INTERSECT SELECT * FROM SPLICE.RACE_BASIC WHERE 地點 LIKE '%台北%' OR 地點 LIKE '%新北%' OR 地點 LIKE '%基隆%' OR 地點 LIKE '%桃園%' OR 地點 LIKE '%新竹%' OR 地點 LIKE '%宜蘭%'\")\n",
    "    elif place == 'Center':\n",
    "        j = cursor.execute(\"SELECT * FROM SPLICE.RACE_BASIC WHERE 賽事種類 LIKE\"+ x +\"AND 日期 >'2019-01-01'  INTERSECT SELECT * FROM SPLICE.RACE_BASIC WHERE 地點 LIKE '%苗栗%' OR 地點 LIKE '%台中%' OR 地點 LIKE '%彰化%' OR 地點 LIKE '%南投%' OR 地點 LIKE '%雲林%'\")\n",
    "    elif place == 'South':\n",
    "        j = cursor.execute(\"SELECT * FROM SPLICE.RACE_BASIC WHERE 賽事種類 LIKE\"+ x +\"AND 日期 >'2019-01-01'  INTERSECT SELECT * FROM SPLICE.RACE_BASIC WHERE 地點 LIKE '%嘉義%' OR 地點 LIKE '%台南%' OR 地點 LIKE '%高雄%' OR 地點 LIKE '%屏東%' OR 地點 LIKE '%澎湖%'\")\n",
    "    elif place == 'East':\n",
    "        j = cursor.execute(\"SELECT * FROM SPLICE.RACE_BASIC WHERE 賽事種類 LIKE\"+ x +\"AND 日期 >'2019-01-01'  INTERSECT SELECT * FROM SPLICE.RACE_BASIC WHERE 地點 LIKE '%花蓮%' OR 地點 LIKE '%台東%'\")\n",
    "    # 建立字典清單\n",
    "    for i in j:\n",
    "        type4 = i[2]\n",
    "        name = i[3]\n",
    "        url = i[4]\n",
    "        res = {'type': type4, 'name': name, 'url':url}\n",
    "        res_list.append(res)\n",
    "    return res_list"
   ]
  },
  {
   "cell_type": "code",
   "execution_count": 98,
   "metadata": {},
   "outputs": [
    {
     "name": "stdout",
     "output_type": "stream",
     "text": [
      "{'type': '路跑', 'name': '2020 渣打臺北公益馬拉松', 'url': 'http://scbmarathon.com/'}|{'type': '路跑', 'name': '最強市民飆5K－新北市5000公尺挑戰賽', 'url': 'http://twrunner.soonnet.org:8012/road_run/index.html'}|{'type': '路跑', 'name': '2019 世界地球日路跑', 'url': 'https://www.eventpal.com.tw/FOAS/actions/ActivityIndex.action?showTabContent&seqno=8ebddf08-b21e-469b-9180-b0a57f9ec137'}\n",
      "-----------------------------------------------------\n"
     ]
    },
    {
     "ename": "KeyboardInterrupt",
     "evalue": "",
     "output_type": "error",
     "traceback": [
      "\u001b[0;31m---------------------------------------------------------------------------\u001b[0m",
      "\u001b[0;31mKeyboardInterrupt\u001b[0m                         Traceback (most recent call last)",
      "\u001b[0;32m<ipython-input-98-9b3ac9ac2d22>\u001b[0m in \u001b[0;36m<module>\u001b[0;34m\u001b[0m\n\u001b[1;32m     27\u001b[0m     \u001b[0mprint\u001b[0m\u001b[0;34m(\u001b[0m\u001b[0mr\u001b[0m\u001b[0;34m.\u001b[0m\u001b[0mhmget\u001b[0m\u001b[0;34m(\u001b[0m\u001b[0;34m'running_race'\u001b[0m\u001b[0;34m,\u001b[0m \u001b[0;34m[\u001b[0m\u001b[0;34m\"North\"\u001b[0m\u001b[0;34m]\u001b[0m\u001b[0;34m)\u001b[0m\u001b[0;34m[\u001b[0m\u001b[0;36m0\u001b[0m\u001b[0;34m]\u001b[0m\u001b[0;34m.\u001b[0m\u001b[0mdecode\u001b[0m\u001b[0;34m(\u001b[0m\u001b[0;34m)\u001b[0m\u001b[0;34m)\u001b[0m\u001b[0;34m\u001b[0m\u001b[0;34m\u001b[0m\u001b[0m\n\u001b[1;32m     28\u001b[0m     \u001b[0mprint\u001b[0m\u001b[0;34m(\u001b[0m\u001b[0;34m'-----------------------------------------------------'\u001b[0m\u001b[0;34m)\u001b[0m\u001b[0;34m\u001b[0m\u001b[0;34m\u001b[0m\u001b[0m\n\u001b[0;32m---> 29\u001b[0;31m     \u001b[0mtime\u001b[0m\u001b[0;34m.\u001b[0m\u001b[0msleep\u001b[0m\u001b[0;34m(\u001b[0m\u001b[0;36m1800\u001b[0m\u001b[0;34m)\u001b[0m\u001b[0;34m\u001b[0m\u001b[0;34m\u001b[0m\u001b[0m\n\u001b[0m",
      "\u001b[0;31mKeyboardInterrupt\u001b[0m: "
     ]
    }
   ],
   "source": [
    "# 使用迴圈自動輸入到redis\n",
    "location = [\"North\", \"Center\", \"South\", \"East\"]\n",
    "while True:\n",
    "    try:\n",
    "        # 每次隨機運動地區各3筆賽事資料list初始化\n",
    "        running_location = []\n",
    "        cycling_location = []\n",
    "        # 與longDB連線\n",
    "        cnxn=pyodbc.connect(\"DSN=SpliceODBC64\")\n",
    "        # SQL指令容器\n",
    "        cursor=cnxn.cursor()\n",
    "        for place in location:\n",
    "            # 使用random.sample取得函式結果為list中任意k=3個（該地區3筆跑步賽事資料）\n",
    "            running_list = random.sample(game(\"run\", place), k=3)\n",
    "            # 將取得的賽事資料以\"|\"切割方便前端取用時分割，再加入list中便可用index分辨不同地區\n",
    "            running_location.append(str(running_list[0])+\"|\"+str(running_list[1])+\"|\"+str(running_list[2]))\n",
    "\n",
    "            cycling_list = random.sample(game(\"ride\", place), k=3)\n",
    "            cycling_location.append(str(cycling_list[0])+\"|\"+str(cycling_list[1])+\"|\"+str(cycling_list[2]))\n",
    "        # 關閉與LongDB連線\n",
    "        cursor.close()\n",
    "        cnxn.close()\n",
    "        \n",
    "        # 將地區為key，三筆賽事資料為value輸入到redis\n",
    "        r.hmset('running_race', {location[0]: running_location[0], location[1]: running_location[1],\n",
    "                                      location[2]: running_location[2], location[3]: running_location[3]})\n",
    "        r.hmset('cycling_race', {location[0]: cycling_location[0], location[1]: cycling_location[1],\n",
    "                                      location[2]: cycling_location[2], location[3]: cycling_location[3]})\n",
    "        \n",
    "        # 測試是否取得北部地區隨機3筆賽事資料\n",
    "        print(r.hmget('running_race', [\"North\"])[0].decode())\n",
    "        print('-----------------------------------------------------')\n",
    "        time.sleep(1800)\n",
    "    except KeyboardInterrupt:\n",
    "        break"
   ]
  },
  {
   "cell_type": "code",
   "execution_count": null,
   "metadata": {},
   "outputs": [],
   "source": [
    "# while True:\n",
    "#     try:\n",
    "#         # 與longDB連線\n",
    "#         cnxn=pyodbc.connect(\"DSN=SpliceODBC64\")\n",
    "#         # SQL指令容器\n",
    "#         cursor=cnxn.cursor()\n",
    "#         running_north_list = random.sample(game(\"run\",\"north\"), k=3)\n",
    "#         running_north = str(running_north_list[0])+\"|\"+str(running_north_list[1])+\"|\"+str(running_north_list[2])\n",
    "#         print(running_north)\n",
    "#         print('-----------------------------------------------------')\n",
    "#         running_center_list = random.sample(game(\"run\",\"center\"), k=3)\n",
    "#         running_center = str(running_center_list[0])+\"|\"+str(running_center_list[1])+\"|\"+str(running_center_list[2])\n",
    "#         print(running_center)\n",
    "#         print('-----------------------------------------------------')\n",
    "#         running_south_list = random.sample(game(\"run\",\"south\"), k=3)\n",
    "#         running_south = str(running_south_list[0])+\"|\"+str(running_south_list[1])+\"|\"+str(running_south_list[2])\n",
    "#         print(running_south)\n",
    "#         print('-----------------------------------------------------')\n",
    "#         running_east_list = random.sample(game(\"run\",\"east\"), k=3)\n",
    "#         running_east = str(running_east_list[0])+\"|\"+str(running_east_list[1])+\"|\"+str(running_east_list[2])\n",
    "#         print(running_east)\n",
    "#         print('-----------------------------------------------------')\n",
    "#         cycling_north_list = random.sample(game(\"ride\",\"north\"), k=3)\n",
    "#         cycling_north = str(cycling_north_list[0])+\"|\"+str(cycling_north_list[1])+\"|\"+str(cycling_north_list[2])\n",
    "#         print(cycling_north)\n",
    "#         print('-----------------------------------------------------')\n",
    "#         cycling_center_list = random.sample(game(\"ride\",\"center\"), k=3)\n",
    "#         cycling_center = str(cycling_center_list[0])+\"|\"+str(cycling_center_list[1])+\"|\"+str(cycling_center_list[2])\n",
    "#         print(cycling_center)\n",
    "#         print('-----------------------------------------------------')\n",
    "#         cycling_south_list = random.sample(game(\"ride\",\"south\"), k=3)\n",
    "#         cycling_south = str(cycling_south_list[0])+\"|\"+str(cycling_south_list[1])+\"|\"+str(cycling_south_list[2])\n",
    "#         print(cycling_south)\n",
    "#         print('-----------------------------------------------------')\n",
    "#         cycling_east_list = random.sample(game(\"ride\",\"east\"), k=3)\n",
    "#         cycling_east = str(cycling_east_list[0])+\"|\"+str(cycling_east_list[1])+\"|\"+str(cycling_east_list[2])\n",
    "#         print(cycling_east)\n",
    "#         print('-----------------------------------------------------')\n",
    "#         cursor.close()\n",
    "#         cnxn.close()\n",
    "        \n",
    "#         r.hmset('running_race', {'North': running_north, 'Center': running_center, 'South': running_south, 'East': running_east})\n",
    "#         r.hmset('cycling_race', {'North': cycling_north, 'Center': cycling_center, 'South': cycling_south, 'East': cycling_east})\n",
    "\n",
    "#         time.sleep(3600)\n",
    "#     except KeyboardInterrupt:\n",
    "#         break"
   ]
  },
  {
   "cell_type": "code",
   "execution_count": 4,
   "metadata": {},
   "outputs": [],
   "source": [
    "# R = r.hmget('running_race',['North', 'Center', 'South', 'East']) #R是跑步list\n",
    "# print(R[0].decode()) #北\n",
    "# print(R[1].decode()) #中\n",
    "# print(R[2].decode()) #南\n",
    "# print(R[3].decode()) #東\n",
    "# C = r.hmget('cycling_race',['North', 'Center', 'South', 'East']) #C是單車list"
   ]
  }
 ],
 "metadata": {
  "kernelspec": {
   "display_name": "Python 3",
   "language": "python",
   "name": "python3"
  },
  "language_info": {
   "codemirror_mode": {
    "name": "ipython",
    "version": 3
   },
   "file_extension": ".py",
   "mimetype": "text/x-python",
   "name": "python",
   "nbconvert_exporter": "python",
   "pygments_lexer": "ipython3",
   "version": "3.7.3"
  }
 },
 "nbformat": 4,
 "nbformat_minor": 2
}
