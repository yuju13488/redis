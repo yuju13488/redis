{
 "cells": [
  {
   "cell_type": "code",
   "execution_count": 1,
   "metadata": {},
   "outputs": [],
   "source": [
    "import random\n",
    "import time\n",
    "import redis\n",
    "import json\n",
    "import pyodbc\n",
    "r = redis.Redis(host='192.168.80.166', port=6379)"
   ]
  },
  {
   "cell_type": "code",
   "execution_count": 2,
   "metadata": {},
   "outputs": [
    {
     "ename": "InterfaceError",
     "evalue": "('28000', '[28000] [Splice Machine][Splice] (2000) Could not establish a connection. Authorization failed. (2000) (SQLDriverConnect)')",
     "output_type": "error",
     "traceback": [
      "\u001b[0;31m---------------------------------------------------------------------------\u001b[0m",
      "\u001b[0;31mInterfaceError\u001b[0m                            Traceback (most recent call last)",
      "\u001b[0;32m<ipython-input-2-789a0a3b9445>\u001b[0m in \u001b[0;36m<module>\u001b[0;34m\u001b[0m\n\u001b[1;32m      1\u001b[0m \u001b[0;31m#LongDB connecting #https://github.com/jimmy29304825/Jupyter_connect_longDB.git\u001b[0m\u001b[0;34m\u001b[0m\u001b[0;34m\u001b[0m\u001b[0;34m\u001b[0m\u001b[0m\n\u001b[0;32m----> 2\u001b[0;31m \u001b[0mcnxn\u001b[0m\u001b[0;34m=\u001b[0m\u001b[0mpyodbc\u001b[0m\u001b[0;34m.\u001b[0m\u001b[0mconnect\u001b[0m\u001b[0;34m(\u001b[0m\u001b[0;34m\"DSN=SpliceODBC64\"\u001b[0m\u001b[0;34m)\u001b[0m\u001b[0;34m\u001b[0m\u001b[0;34m\u001b[0m\u001b[0m\n\u001b[0m\u001b[1;32m      3\u001b[0m \u001b[0mcursor\u001b[0m\u001b[0;34m=\u001b[0m\u001b[0mcnxn\u001b[0m\u001b[0;34m.\u001b[0m\u001b[0mcursor\u001b[0m\u001b[0;34m(\u001b[0m\u001b[0;34m)\u001b[0m\u001b[0;34m\u001b[0m\u001b[0;34m\u001b[0m\u001b[0m\n\u001b[1;32m      4\u001b[0m \u001b[0;31m#create table in database LONGDB\u001b[0m\u001b[0;34m\u001b[0m\u001b[0;34m\u001b[0m\u001b[0;34m\u001b[0m\u001b[0m\n\u001b[1;32m      5\u001b[0m \u001b[0;31m#cursor.execute(\"CREATE TABLE LONGDB.LINE_ID(ID varchar(500), IMG varchar(500),NAME varchar(500))\")\u001b[0m\u001b[0;34m\u001b[0m\u001b[0;34m\u001b[0m\u001b[0;34m\u001b[0m\u001b[0m\n",
      "\u001b[0;31mInterfaceError\u001b[0m: ('28000', '[28000] [Splice Machine][Splice] (2000) Could not establish a connection. Authorization failed. (2000) (SQLDriverConnect)')"
     ]
    }
   ],
   "source": [
    "#LongDB connecting #https://github.com/jimmy29304825/Jupyter_connect_longDB.git\n",
    "cnxn=pyodbc.connect(\"DSN=SpliceODBC64\")\n",
    "cursor=cnxn.cursor()\n",
    "#create table in database LONGDB\n",
    "#cursor.execute(\"CREATE TABLE LONGDB.LINE_ID(ID varchar(500), IMG varchar(500),NAME varchar(500))\")\n",
    "#cnxn.commit()"
   ]
  },
  {
   "cell_type": "code",
   "execution_count": 3,
   "metadata": {},
   "outputs": [],
   "source": [
    "#Define data from LineBot, and save to LongDB.\n",
    "def line_member(id_dict):\n",
    "    name = id_dict['display_name']\n",
    "    img = id_dict['picture_url']\n",
    "    user_id = id_dict['user_id']\n",
    "    #add new data to database\n",
    "    cursor.execute(\"INSERT INTO LONGDB.LINE_ID VALUES('\"+user_id+\"','\"+img+\"','\"+name+\"')\")\n",
    "    cnxn.commit()\n",
    "    #r.hmset('line', {'ID': user_id, 'img': img, 'name': name})\n",
    "    #return r.hmget('line', ['ID', 'img', 'name'])"
   ]
  },
  {
   "cell_type": "code",
   "execution_count": 4,
   "metadata": {
    "scrolled": true
   },
   "outputs": [],
   "source": [
    "def id_check():\n",
    "    cursor.execute(\"SELECT ID FROM LONGDB.LINE_ID\")\n",
    "    rows = cursor.fetchall()\n",
    "    cnxn.commit()\n",
    "    id_list = []\n",
    "    for i in rows:\n",
    "        id_list.append(str(i)[2:-4]) \n",
    "    return id_list"
   ]
  },
  {
   "cell_type": "code",
   "execution_count": 5,
   "metadata": {},
   "outputs": [],
   "source": [
    "#Use functin insert test data to database\n",
    "while True:\n",
    "    try:\n",
    "        id_string = r.get('messi').decode()\n",
    "        id_dict = json.loads(id_string)\n",
    "        user_id = id_dict['user_id'] #user_id for now\n",
    "        check_list = id_check() #function for create list of user_id\n",
    "        #If user_id is new(not in the database), then add this user.\n",
    "        if user_id not in check_list:\n",
    "            line_member(id_dict) #function for insert user\n",
    "        elif user_id in check_list:\n",
    "            continue\n",
    "        time.sleep(300)\n",
    "    except SyntaxError:\n",
    "        continue\n",
    "    except KeyboardInterrupt:\n",
    "        break"
   ]
  },
  {
   "cell_type": "code",
   "execution_count": 6,
   "metadata": {},
   "outputs": [
    {
     "ename": "SyntaxError",
     "evalue": "invalid syntax (<ipython-input-6-87dd5f158608>, line 4)",
     "output_type": "error",
     "traceback": [
      "\u001b[0;36m  File \u001b[0;32m\"<ipython-input-6-87dd5f158608>\"\u001b[0;36m, line \u001b[0;32m4\u001b[0m\n\u001b[0;31m    run =\u001b[0m\n\u001b[0m          ^\u001b[0m\n\u001b[0;31mSyntaxError\u001b[0m\u001b[0;31m:\u001b[0m invalid syntax\n"
     ]
    }
   ],
   "source": [
    "#add music favor to database\n",
    "def music_favor(id_string, music):\n",
    "    user_id = line_member(id_string)[0]\n",
    "    run = \n",
    "    fast = \n",
    "    slow = \n",
    "    r.hmset('line', {'ID': ID, 'run': run, 'fast': fast, 'slow': slow})\n",
    "    return r.hmget('line', ['ID': user_id, 'run': run, 'fast': fast, 'slow': slow])"
   ]
  },
  {
   "cell_type": "code",
   "execution_count": null,
   "metadata": {},
   "outputs": [],
   "source": []
  }
 ],
 "metadata": {
  "kernelspec": {
   "display_name": "Python 3",
   "language": "python",
   "name": "python3"
  },
  "language_info": {
   "codemirror_mode": {
    "name": "ipython",
    "version": 3
   },
   "file_extension": ".py",
   "mimetype": "text/x-python",
   "name": "python",
   "nbconvert_exporter": "python",
   "pygments_lexer": "ipython3",
   "version": "3.7.3"
  }
 },
 "nbformat": 4,
 "nbformat_minor": 2
}
