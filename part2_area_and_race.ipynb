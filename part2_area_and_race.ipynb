{
 "cells": [
  {
   "cell_type": "code",
   "execution_count": 1,
   "metadata": {},
   "outputs": [],
   "source": [
    "import random\n",
    "import time\n",
    "import redis\n",
    "import pyodbc\n",
    "r = redis.Redis(host='192.168.80.166', port=6379)"
   ]
  },
  {
   "cell_type": "code",
   "execution_count": 2,
   "metadata": {},
   "outputs": [
    {
     "data": {
      "text/plain": [
       "[{'type': '自行車', 'name': '2019 雙港認證 240 (雙主場)', 'url': '台灣自行車協會'},\n",
       " {'type': '自行車',\n",
       "  'name': '2019康健人壽環花東自行車系列二-環花東365挑戰 ',\n",
       "  'url': 'http://www.cyclist.org.tw/event_txt.asp?pno=99'},\n",
       " {'type': '自行車',\n",
       "  'name': '2019臺灣KOM登山王之路-夏季',\n",
       "  'url': 'http://www.cyclist.org.tw/event_txt.asp?pno=103'},\n",
       " {'type': '自行車',\n",
       "  'name': '2019 永不放棄系列活動極限挑戰 洄瀾300K/100K',\n",
       "  'url': 'http://www.tpe-bike.org.tw/'},\n",
       " {'type': '自行車',\n",
       "  'name': '2019環花東365超級挑戰',\n",
       "  'url': 'http://www.cyclist.org.tw/'},\n",
       " {'type': '自行車',\n",
       "  'name': '2019康健人壽環花東自行車系列二-環花東365挑戰 ',\n",
       "  'url': 'http://www.cyclist.org.tw/event_txt.asp?pno=99'},\n",
       " {'type': '自行車', 'name': '2019 雙港 240 (雙主場)', 'url': 'http://www.twbike.org/'}]"
      ]
     },
     "execution_count": 2,
     "metadata": {},
     "output_type": "execute_result"
    }
   ],
   "source": [
    "#function from other team member\n",
    "def game(type2,place):\n",
    "    #與longdb連線\n",
    "    import pyodbc\n",
    "    cnxn=pyodbc.connect(\"DSN=SpliceODBC64\")\n",
    "    #sql指令容器\n",
    "    cursor=cnxn.cursor()\n",
    "    #篩選賽事類型\n",
    "    type2_dict = {\"ride\":\" '自行車' \",\"run\":\" '路跑' \"}\n",
    "    x = type2_dict.get(type2)\n",
    "    res_list = []\n",
    "    #篩選賽事區域\n",
    "    if place == 'north':\n",
    "        j = cursor.execute(\"SELECT * FROM SPLICE.RACE_BASIC WHERE 賽事種類 LIKE\"+ x +\"AND 日期 >'2019-01-01'  INTERSECT SELECT * FROM SPLICE.RACE_BASIC WHERE 地點 LIKE '%台北%' OR 地點 LIKE '%新北%' OR 地點 LIKE '%基隆%' OR 地點 LIKE '%桃園%' OR 地點 LIKE '%新竹%' OR 地點 LIKE '%宜蘭%'\")\n",
    "    elif place == 'center':\n",
    "        j = cursor.execute(\"SELECT * FROM SPLICE.RACE_BASIC WHERE 賽事種類 LIKE\"+ x +\"AND 日期 >'2019-01-01'  INTERSECT SELECT * FROM SPLICE.RACE_BASIC WHERE 地點 LIKE '%苗栗%' OR 地點 LIKE '%台中%' OR 地點 LIKE '%彰化%' OR 地點 LIKE '%南投%' OR 地點 LIKE '%雲林%'\")\n",
    "    elif place == 'south':\n",
    "        j = cursor.execute(\"SELECT * FROM SPLICE.RACE_BASIC WHERE 賽事種類 LIKE\"+ x +\"AND 日期 >'2019-01-01'  INTERSECT SELECT * FROM SPLICE.RACE_BASIC WHERE 地點 LIKE '%嘉義%' OR 地點 LIKE '%台南%' OR 地點 LIKE '%高雄%' OR 地點 LIKE '%屏東%' OR 地點 LIKE '%澎湖%'\")\n",
    "    elif place == 'east':\n",
    "        j = cursor.execute(\"SELECT * FROM SPLICE.RACE_BASIC WHERE 賽事種類 LIKE\"+ x +\"AND 日期 >'2019-01-01'  INTERSECT SELECT * FROM SPLICE.RACE_BASIC WHERE 地點 LIKE '%花蓮%' OR 地點 LIKE '%台東%'\")\n",
    "    #建立字典清單\n",
    "    for i in j:\n",
    "        type4 = i[2]\n",
    "        name = i[3]\n",
    "        url = i[4]\n",
    "        res = {'type': type4, 'name': name, 'url':url}\n",
    "        res_list.append(res)\n",
    "    return res_list\n",
    "\n",
    "game('ride', 'east')"
   ]
  },
  {
   "cell_type": "code",
   "execution_count": null,
   "metadata": {},
   "outputs": [
    {
     "name": "stdout",
     "output_type": "stream",
     "text": [
      "{'type': '路跑', 'name': '獅子座超馬', 'url': 'https://www.ibodygo.com.tw/EventTopic.aspx?n=830'}|{'type': '路跑', 'name': '2020 海風馬拉松', 'url': 'https://bao-ming.com/eb/www/activity_content.php?activitysn=4090&contentsn=20436'}|{'type': '路跑', 'name': '2019 慶祝父親節愛心公益路跑', 'url': 'https://www.ibodygo.com.tw/EventTopic.aspx?n=849'}\n",
      "-----------------------------------------------------\n",
      "{'type': '路跑', 'name': 'POWER IN RUN 雲林半程馬拉松', 'url': 'https://lohasnet.tw/PowerInRun20190224/'}|{'type': '路跑', 'name': '大甲花壇環台D3超馬', 'url': 'https://www.ibodygo.com.tw/EventTopic.aspx?n=869'}|{'type': '路跑', 'name': '2020 神岡馬 神豐國際同濟會全國馬拉松', 'url': 'https://lohasnet.tw/Shengang-marathon2020/'}\n",
      "-----------------------------------------------------\n",
      "{'type': '路跑', 'name': '2019 第三屆嘉楠集團公益馬拉松', 'url': 'http://baoming.irunner.com.tw/Orient2019'}|{'type': '路跑', 'name': '2020 紅瓦厝保生盃公益馬拉松', 'url': 'https://lohasnet.tw/BaoSheng2020/'}|{'type': '路跑', 'name': '第二屆美猴王輕越野計時賽', 'url': 'https://www.facebook.com/events/2145675178863545/'}\n",
      "-----------------------------------------------------\n",
      "{'type': '路跑', 'name': '2019 雲朗觀光太魯閣峽谷馬拉松', 'url': 'http://baoming.irunner.com.tw/taroko2019'}|{'type': '路跑', 'name': '漫步玉里-第二屆八百壯士超馬系列', 'url': 'https://www.facebook.com/events/1165110250310958/'}|{'type': '路跑', 'name': '20190810環關山親水農情6日超馬', 'url': 'https://www.ibodygo.com.tw/EventTopic.aspx?n=813'}\n",
      "-----------------------------------------------------\n",
      "{'type': '自行車', 'name': '2019蘭陽不落92 宜稻趣踏浪', 'url': 'http://www.flca.tw/cycling01.php?id=198'}|{'type': '自行車', 'name': '2019KHS桃園不落_騎機家庭日', 'url': 'http://www.flca.tw/?fbclid=IwAR13RzS9oJMc4F6fsa4DwHdj5fTb_Ti3qTmBtawLTxh-2XB4NSkIJ-iY1dU'}|{'type': '自行車', 'name': '2019小惡魔鬥陣騎北宜', 'url': 'https://www.mobile01.com/topicdetail.php?f=287&t=5684981'}\n",
      "-----------------------------------------------------\n",
      "{'type': '自行車', 'name': '環大苗栗經典百K挑戰', 'url': 'http://www.taiwanbike.org/index.php/477-2019-4'}|{'type': '自行車', 'name': '2019 雙港認證 240 (雙主場)', 'url': '台灣自行車協會'}|{'type': '自行車', 'name': '2019苗栗練五宮', 'url': 'http://www.taiwanbike.org/index.php/480-2019-10-20'}\n",
      "-----------------------------------------------------\n",
      "{'type': '自行車', 'name': '超越2019北高挑戰行', 'url': 'www.eventpal.com.tw/20190228.html'}|{'type': '自行車', 'name': '2019屏東不落122 勇士騎福2', 'url': 'http://www.flca.tw/cycling01.php?id=195'}|{'type': '自行車', 'name': '2019 錠嵂百K 輪躍台南', 'url': 'https://bao-ming.com/eb/www/activity_content.php?activitysn=3602&contentsn=18329'}\n",
      "-----------------------------------------------------\n",
      "{'type': '自行車', 'name': '2019環花東365超級挑戰', 'url': 'http://www.cyclist.org.tw/'}|{'type': '自行車', 'name': '2019 雙港 240 (雙主場)', 'url': 'http://www.twbike.org/'}|{'type': '自行車', 'name': '2019 永不放棄系列活動極限挑戰 洄瀾300K/100K', 'url': 'http://www.tpe-bike.org.tw/'}\n",
      "-----------------------------------------------------\n",
      "{'type': '路跑', 'name': '羅山北/仙山靈洞宮超馬', 'url': 'https://www.ibodygo.com.tw/EventTopic.aspx?n=854'}|{'type': '路跑', 'name': '2020 東北角100英哩越野', 'url': 'https://www.facebook.com/events/643962772684170/'}|{'type': '路跑', 'name': '2019 Run With Love螢光夜RUN In板橋嘉年華', 'url': 'https://bao-ming.com/eb/www/activity_content.php?activitysn=4097'}\n",
      "-----------------------------------------------------\n",
      "{'type': '路跑', 'name': '2019 馬家庄路跑賽', 'url': 'https://www.ibodygo.com.tw/EventTopic.aspx?n=749'}|{'type': '路跑', 'name': '奔趣馬拉邦 4', 'url': 'https://www.facebook.com/events/2472970776064632/'}|{'type': '路跑', 'name': '2019 五湖四海路跑賽', 'url': 'https://www.ibodygo.com.tw/EventTopic.aspx?n=737'}\n",
      "-----------------------------------------------------\n",
      "{'type': '路跑', 'name': '2019 北大武山超級馬拉松', 'url': 'http://bm.bais.com.tw/1904/'}|{'type': '路跑', 'name': '2019 第三屆嘉楠集團公益馬拉松', 'url': 'http://baoming.irunner.com.tw/Orient2019'}|{'type': '路跑', 'name': '2019 Run for future 順發公益路跑', 'url': 'https://lohasnet.tw/Sunfar2019/?utm_source=taipeimarathon&utm_medium=post&utm_campaign=Sunfar2019'}\n",
      "-----------------------------------------------------\n",
      "{'type': '路跑', 'name': '2019 牧野池上馬拉松(環花東系列賽)', 'url': 'https://bao-ming.com/eb/www/activity_content.php?activitysn=3858'}|{'type': '路跑', 'name': '2019 森林鐵腿人', 'url': 'https://bao-ming.com/eb/www/activity_content.php?activitysn=3784'}|{'type': '路跑', 'name': '2020 CHALLENGE TAIWAN 國際鐵人三項競賽', 'url': 'http://challenge-taiwan.com/index.aspx'}\n",
      "-----------------------------------------------------\n",
      "{'type': '自行車', 'name': '2019小惡魔鬥陣騎北宜', 'url': 'https://www.mobile01.com/topicdetail.php?f=287&t=5684981'}|{'type': '自行車', 'name': '2019不厭五分經典挑戰', 'url': 'http://www.taiwanbike.org/index.php/395-2017-060'}|{'type': '自行車', 'name': '2019 WPC太平山國際自行車挑戰賽', 'url': 'http://www.bao-ming.com/eb/www/activity_content.php?activitysn=3808'}\n",
      "-----------------------------------------------------\n",
      "{'type': '自行車', 'name': '2019KHS彰化不落119_鄉野騎跡', 'url': 'http://www.flca.tw/?fbclid=IwAR2CM_7bCXczJjYWkv_QMnJI62IrYbpEco-XR6tMXqWdKJ38NjhGuI-pg0Q'}|{'type': '自行車', 'name': '環大苗栗經典百K挑戰', 'url': 'http://www.taiwanbike.org/index.php/477-2019-4'}|{'type': '自行車', 'name': '美利達.瑪吉斯盃 2019(第9屆)彰化經典百K Changhua Classic 100單車自我挑戰', 'url': 'https://www.merida.tw/news/cate-75282.htm#cbp=/news-detail/show-330540.htm'}\n",
      "-----------------------------------------------------\n",
      "{'type': '自行車', 'name': '2019 錠嵂百K 輪躍台南', 'url': 'https://bao-ming.com/eb/www/activity_content.php?activitysn=3602&contentsn=18329'}|{'type': '自行車', 'name': '2019屏東不落122 勇士騎福2', 'url': 'http://www.flca.tw/cycling01.php?id=195'}|{'type': '自行車', 'name': '2019經典新玉門關單車挑戰賽', 'url': 'https://www.focusline.com.tw/91013OF/Activities/Activities.aspx'}\n",
      "-----------------------------------------------------\n",
      "{'type': '自行車', 'name': '2019 雙港認證 240 (雙主場)', 'url': '台灣自行車協會'}|{'type': '自行車', 'name': '2019臺灣KOM登山王之路-夏季', 'url': 'http://www.cyclist.org.tw/event_txt.asp?pno=103'}|{'type': '自行車', 'name': '2019環花東365超級挑戰', 'url': 'http://www.cyclist.org.tw/'}\n",
      "-----------------------------------------------------\n"
     ]
    }
   ],
   "source": [
    "while True:\n",
    "    try:\n",
    "        running_north_list = random.sample(game(\"run\",\"north\"), k=3)\n",
    "        running_north = str(running_north_list[0])+\"|\"+str(running_north_list[1])+\"|\"+str(running_north_list[2])\n",
    "        print(running_north)\n",
    "        print('-----------------------------------------------------')\n",
    "        running_center_list = random.sample(game(\"run\",\"center\"), k=3)\n",
    "        running_center = str(running_center_list[0])+\"|\"+str(running_center_list[1])+\"|\"+str(running_center_list[2])\n",
    "        print(running_center)\n",
    "        print('-----------------------------------------------------')\n",
    "        running_south_list = random.sample(game(\"run\",\"south\"), k=3)\n",
    "        running_south = str(running_south_list[0])+\"|\"+str(running_south_list[1])+\"|\"+str(running_south_list[2])\n",
    "        print(running_south)\n",
    "        print('-----------------------------------------------------')\n",
    "        running_east_list = random.sample(game(\"run\",\"east\"), k=3)\n",
    "        running_east = str(running_east_list[0])+\"|\"+str(running_east_list[1])+\"|\"+str(running_east_list[2])\n",
    "        print(running_east)\n",
    "        print('-----------------------------------------------------')\n",
    "        cycling_north_list = random.sample(game(\"ride\",\"north\"), k=3)\n",
    "        cycling_north = str(cycling_north_list[0])+\"|\"+str(cycling_north_list[1])+\"|\"+str(cycling_north_list[2])\n",
    "        print(cycling_north)\n",
    "        print('-----------------------------------------------------')\n",
    "        cycling_center_list = random.sample(game(\"ride\",\"center\"), k=3)\n",
    "        cycling_center = str(cycling_center_list[0])+\"|\"+str(cycling_center_list[1])+\"|\"+str(cycling_center_list[2])\n",
    "        print(cycling_center)\n",
    "        print('-----------------------------------------------------')\n",
    "        cycling_south_list = random.sample(game(\"ride\",\"south\"), k=3)\n",
    "        cycling_south = str(cycling_south_list[0])+\"|\"+str(cycling_south_list[1])+\"|\"+str(cycling_south_list[2])\n",
    "        print(cycling_south)\n",
    "        print('-----------------------------------------------------')\n",
    "        cycling_east_list = random.sample(game(\"ride\",\"east\"), k=3)\n",
    "        cycling_east = str(cycling_east_list[0])+\"|\"+str(cycling_east_list[1])+\"|\"+str(cycling_east_list[2])\n",
    "        print(cycling_east)\n",
    "        print('-----------------------------------------------------')\n",
    "        \n",
    "        r.hmset('running_race', {'North': running_north, 'Center': running_center, 'South': running_south, 'East': running_east})\n",
    "        r.hmset('cycling_race', {'North': cycling_north, 'Center': cycling_center, 'South': cycling_south, 'East': cycling_east})\n",
    "        time.sleep(300) #300\n",
    "    except KeyboardInterrupt:\n",
    "        break"
   ]
  },
  {
   "cell_type": "code",
   "execution_count": null,
   "metadata": {},
   "outputs": [],
   "source": [
    "# R = r.hmget('running_race',['North', 'Center', 'South', 'East']) #R是跑步list\n",
    "# print(R[0].decode()) #北\n",
    "# print(R[1].decode()) #中\n",
    "# print(R[2].decode()) #南\n",
    "# print(R[3].decode()) #東\n",
    "# C = r.hmget('cycling_race',['North', 'Center', 'South', 'East']) #C是單車list"
   ]
  }
 ],
 "metadata": {
  "kernelspec": {
   "display_name": "Python 3",
   "language": "python",
   "name": "python3"
  },
  "language_info": {
   "codemirror_mode": {
    "name": "ipython",
    "version": 3
   },
   "file_extension": ".py",
   "mimetype": "text/x-python",
   "name": "python",
   "nbconvert_exporter": "python",
   "pygments_lexer": "ipython3",
   "version": "3.7.3"
  }
 },
 "nbformat": 4,
 "nbformat_minor": 2
}
