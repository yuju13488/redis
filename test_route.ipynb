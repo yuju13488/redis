{
 "cells": [
  {
   "cell_type": "code",
   "execution_count": 74,
   "metadata": {},
   "outputs": [],
   "source": [
    "import time\n",
    "import redis\n",
    "import json\n",
    "import mysql.connector\n",
    "r = redis.Redis(host='192.168.80.166', port=6379)"
   ]
  },
  {
   "cell_type": "code",
   "execution_count": 75,
   "metadata": {},
   "outputs": [
    {
     "name": "stdout",
     "output_type": "stream",
     "text": [
      "Not find route\n"
     ]
    }
   ],
   "source": [
    "#test\n",
    "week_mountaineering_in_Taipei = r.hmget('mountaineering', ['TPE', 'strong', 'info'])[2].decode()\n",
    "print(week_mountaineering_in_Taipei)"
   ]
  },
  {
   "cell_type": "code",
   "execution_count": 76,
   "metadata": {},
   "outputs": [
    {
     "name": "stdout",
     "output_type": "stream",
     "text": [
      "NTPC | 新北 | strong\n",
      "running: Not find route\n",
      "mountaineering: {'url': 'https://hiking.biji.co/index.php?q=trail&act=detail&id=1218', 'name': '陽明山東西大縱走(超健腳加強版)', 'score': 5, 'mileage': '39.2公里', 'high': '5~1120公尺', 'level': '高', 'city': '新北市淡水區'}\n",
      "----------------------------------------------------------------------------------------------\n",
      "NTPC | 新北 | medium\n",
      "running: {'url': 'https://hiking.biji.co/index.php?q=trail&act=detail&id=669', 'name': '耳空龜山登山步道、磐石古道', 'score': 4, 'mileage': '5.7公里', 'high': '520~588公尺', 'level': '中', 'city': '新北市汐止區'}\n",
      "mountaineering: {'url': 'https://hiking.biji.co/index.php?q=trail&act=detail&id=1497', 'name': '環台北天際線第七段：淡水至林口', 'score': 4, 'mileage': '17.8公里', 'high': '3~616公尺', 'level': '中', 'city': '新北市五股區'}\n",
      "----------------------------------------------------------------------------------------------\n",
      "NTPC | 新北 | weak\n",
      "running: {'url': 'https://hiking.biji.co/index.php?q=trail&act=detail&id=470', 'name': '鱷魚頭景觀步道', 'score': 4, 'mileage': '單程1.8公里', 'high': '385~477公尺', 'level': '低', 'city': '新北市石碇區'}\n",
      "mountaineering: {'url': 'https://hiking.biji.co/index.php?q=trail&act=detail&id=1319', 'name': '挑硫古道、大油坑山', 'score': 4, 'mileage': '單程2.2公里', 'high': '389~553公尺', 'level': '低', 'city': '新北市金山區'}\n",
      "----------------------------------------------------------------------------------------------\n",
      "ZMI | 苗栗 | strong\n",
      "running: Not find route\n",
      "mountaineering: {'url': 'https://hiking.biji.co/index.php?q=trail&act=detail&id=639', 'name': '大霸北稜線', 'score': 4, 'mileage': '單程20.8公里', 'high': '1600~3415公尺', 'level': '高', 'city': '苗栗縣泰安鄉'}\n",
      "----------------------------------------------------------------------------------------------\n",
      "ZMI | 苗栗 | medium\n",
      "running: {'url': 'https://hiking.biji.co/index.php?q=trail&act=detail&id=1636', 'name': '挑沙古道', 'score': 0, 'mileage': '0.6公里', 'high': '501~558公尺', 'level': '中', 'city': '苗栗縣卓蘭鎮'}\n",
      "mountaineering: {'url': 'https://hiking.biji.co/index.php?q=trail&act=detail&id=1194', 'name': '象神仙縱走', 'score': 4, 'mileage': '13.7公里', 'high': '325~967公尺', 'level': '中', 'city': '苗栗縣三灣鄉'}\n",
      "----------------------------------------------------------------------------------------------\n",
      "ZMI | 苗栗 | weak\n",
      "running: {'url': 'https://hiking.biji.co/index.php?q=trail&act=detail&id=1421', 'name': '南隘勇(南長城)古道', 'score': 4, 'mileage': '單程1.2公里', 'high': '415~505公尺', 'level': '低', 'city': '苗栗縣頭屋鄉'}\n",
      "mountaineering: {'url': 'https://hiking.biji.co/index.php?q=trail&act=detail&id=1584', 'name': '大窩文史生態區步道', 'score': 0, 'mileage': '單程3公里', 'high': '310~480公尺', 'level': '低', 'city': '苗栗縣大湖鄉'}\n",
      "----------------------------------------------------------------------------------------------\n",
      "NTC | 南投 | strong\n",
      "running: Not find route\n",
      "mountaineering: {'url': 'https://hiking.biji.co/index.php?q=trail&act=detail&id=1039', 'name': '橫屏山、舊武界越山登山步道', 'score': 5, 'mileage': '22.7公里', 'high': '611~1668公尺', 'level': '高', 'city': '南投縣埔里鎮'}\n",
      "----------------------------------------------------------------------------------------------\n",
      "NTC | 南投 | medium\n",
      "running: {'url': 'https://hiking.biji.co/index.php?q=trail&act=detail&id=286', 'name': '合歡尖山步道', 'score': 4, 'mileage': '單程0.78公里', 'high': '3158~3217公尺', 'level': '中', 'city': '南投縣仁愛鄉'}\n",
      "mountaineering: {'url': 'https://hiking.biji.co/index.php?q=trail&act=detail&id=535', 'name': '畢祿山登山步道', 'score': 4, 'mileage': '單程10.2公里', 'high': '2571~3371公尺', 'level': '中', 'city': '南投縣仁愛鄉'}\n",
      "----------------------------------------------------------------------------------------------\n",
      "NTC | 南投 | weak\n",
      "running: {'url': 'https://hiking.biji.co/index.php?q=trail&act=detail&id=1006', 'name': '杉林溪越嶺古道', 'score': 5, 'mileage': '1.8公里', 'high': '1683~1748公尺', 'level': '低', 'city': '南投縣竹山鎮'}\n",
      "mountaineering: {'url': 'https://hiking.biji.co/index.php?q=trail&act=detail&id=432', 'name': '橫山步道', 'score': 4, 'mileage': '7.5公里', 'high': '110~443公尺', 'level': '低', 'city': '南投縣南投市'}\n",
      "----------------------------------------------------------------------------------------------\n"
     ]
    }
   ],
   "source": [
    "city_dict = {\"NTPC\":\"新北\", \"ZMI\":\"苗栗\", \"NTC\":\"南投\"}\n",
    "for city in [\"NTPC\", \"ZMI\", \"NTC\"]:\n",
    "    for strength in [\"strong\", \"medium\", \"weak\"]:\n",
    "        print(city, '|', city_dict[city], '|', strength )\n",
    "        print(\"running:\", r.hmget(\"running\"+\"_\"+strength+\"_\"+city, [city, strength, 'info'])[2].decode())\n",
    "        print(\"mountaineering:\", r.hmget(\"mountaineering\"+\"_\"+strength+\"_\"+city, [city, strength, 'info'])[2].decode())\n",
    "        print('----------------------------------------------------------------------------------------------')\n",
    "        time.sleep(1)"
   ]
  },
  {
   "cell_type": "code",
   "execution_count": null,
   "metadata": {},
   "outputs": [],
   "source": []
  }
 ],
 "metadata": {
  "kernelspec": {
   "display_name": "Python 3",
   "language": "python",
   "name": "python3"
  },
  "language_info": {
   "codemirror_mode": {
    "name": "ipython",
    "version": 3
   },
   "file_extension": ".py",
   "mimetype": "text/x-python",
   "name": "python",
   "nbconvert_exporter": "python",
   "pygments_lexer": "ipython3",
   "version": "3.7.3"
  }
 },
 "nbformat": 4,
 "nbformat_minor": 2
}
