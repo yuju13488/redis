{
 "cells": [
  {
   "cell_type": "code",
   "execution_count": 4,
   "metadata": {},
   "outputs": [],
   "source": [
    "import random\n",
    "import time\n",
    "import redis\n",
    "import pyodbc\n",
    "r = redis.Redis(host='192.168.80.166', port=6379)"
   ]
  },
  {
   "cell_type": "code",
   "execution_count": 5,
   "metadata": {},
   "outputs": [],
   "source": [
    "#function from other team member\n",
    "def game(type2,place):\n",
    "    #篩選賽事類型\n",
    "    type2_dict = {\"ride\":\" '自行車' \",\"run\":\" '路跑' \"}\n",
    "    x = type2_dict.get(type2)\n",
    "    res_list = []\n",
    "    #篩選賽事區域\n",
    "    if place == 'north':\n",
    "        j = cursor.execute(\"SELECT * FROM SPLICE.RACE_BASIC WHERE 賽事種類 LIKE\"+ x +\"AND 日期 >'2019-01-01'  INTERSECT SELECT * FROM SPLICE.RACE_BASIC WHERE 地點 LIKE '%台北%' OR 地點 LIKE '%新北%' OR 地點 LIKE '%基隆%' OR 地點 LIKE '%桃園%' OR 地點 LIKE '%新竹%' OR 地點 LIKE '%宜蘭%'\")\n",
    "    elif place == 'center':\n",
    "        j = cursor.execute(\"SELECT * FROM SPLICE.RACE_BASIC WHERE 賽事種類 LIKE\"+ x +\"AND 日期 >'2019-01-01'  INTERSECT SELECT * FROM SPLICE.RACE_BASIC WHERE 地點 LIKE '%苗栗%' OR 地點 LIKE '%台中%' OR 地點 LIKE '%彰化%' OR 地點 LIKE '%南投%' OR 地點 LIKE '%雲林%'\")\n",
    "    elif place == 'south':\n",
    "        j = cursor.execute(\"SELECT * FROM SPLICE.RACE_BASIC WHERE 賽事種類 LIKE\"+ x +\"AND 日期 >'2019-01-01'  INTERSECT SELECT * FROM SPLICE.RACE_BASIC WHERE 地點 LIKE '%嘉義%' OR 地點 LIKE '%台南%' OR 地點 LIKE '%高雄%' OR 地點 LIKE '%屏東%' OR 地點 LIKE '%澎湖%'\")\n",
    "    elif place == 'east':\n",
    "        j = cursor.execute(\"SELECT * FROM SPLICE.RACE_BASIC WHERE 賽事種類 LIKE\"+ x +\"AND 日期 >'2019-01-01'  INTERSECT SELECT * FROM SPLICE.RACE_BASIC WHERE 地點 LIKE '%花蓮%' OR 地點 LIKE '%台東%'\")\n",
    "    #建立字典清單\n",
    "    for i in j:\n",
    "        type4 = i[2]\n",
    "        name = i[3]\n",
    "        url = i[4]\n",
    "        res = {'type': type4, 'name': name, 'url':url}\n",
    "        res_list.append(res)\n",
    "    return res_list"
   ]
  },
  {
   "cell_type": "code",
   "execution_count": 6,
   "metadata": {},
   "outputs": [
    {
     "name": "stdout",
     "output_type": "stream",
     "text": [
      "{'type': '路跑', 'name': '青青草原/北埔南庄超馬', 'url': 'https://www.ibodygo.com.tw/EventTopic.aspx?n=829'}|{'type': '路跑', 'name': '2019 年宜蘭梅花湖全國鐵人三項錦標賽(半程)', 'url': 'https://bao-ming.com/eb/www/activity_content.php?activitysn=3528'}|{'type': '路跑', 'name': '2019 年第七屆愛路迷石碇.華梵馬拉松路跑', 'url': 'https://bao-ming.com/eb/www/activity_content.php?activitysn=3538'}\n",
      "-----------------------------------------------------\n",
      "{'type': '路跑', 'name': '忘憂森林4', 'url': 'https://www.facebook.com/events/301141343859638/'}|{'type': '路跑', 'name': '2020 浪漫台三~戀戀大湖草莓文化嘉年華馬拉松', 'url': 'http://ironman.org.tw/index.php/85-2020-0202'}|{'type': '路跑', 'name': '2020 鶼鰈情深路跑賽', 'url': 'https://www.ibodygo.com.tw/EventTopic.aspx?n=919'}\n",
      "-----------------------------------------------------\n",
      "{'type': '路跑', 'name': '2019 ZEPRO RUN 全國半程馬拉松-臺南場', 'url': 'https://www.ctrun.com.tw/pageM.aspx?CF_ActCode=AG191020&id=228'}|{'type': '路跑', 'name': 'SHAPA-RUN 大將半程馬拉松', 'url': 'https://lohasnet.tw/SHAPARUN2019/'}|{'type': '路跑', 'name': '高雄第５屆舒跑杯', 'url': 'https://www.sportsnet.org.tw/20191020_web/'}\n",
      "-----------------------------------------------------\n",
      "{'type': '路跑', 'name': '2019 瑞穗柚花馬拉松', 'url': 'https://lohasnet.tw/PomeloFlower2019/'}|{'type': '路跑', 'name': '2019 Challenge Taiwan 國際鐵人三項競賽', 'url': 'http://challenge-taiwan.com/page/about/index.aspx?kind=44'}|{'type': '路跑', 'name': '2019 臺東普悠瑪226/113/51.5KM/小鐵人', 'url': 'http://bao-ming.com/eb/www/reg.php?activitysn=3305'}\n",
      "-----------------------------------------------------\n",
      "{'type': '自行車', 'name': '2019不厭五分經典挑戰', 'url': 'http://www.taiwanbike.org/index.php/395-2017-060'}|{'type': '自行車', 'name': '2019KHS桃園不落_騎機家庭日', 'url': 'http://www.flca.tw/?fbclid=IwAR13RzS9oJMc4F6fsa4DwHdj5fTb_Ti3qTmBtawLTxh-2XB4NSkIJ-iY1dU'}|{'type': '自行車', 'name': '第九屆超越巔峰 中央山脈極致挑戰', 'url': 'http://www.taiwanbike.org/'}\n",
      "-----------------------------------------------------\n",
      "{'type': '自行車', 'name': '2019KHS彰化不落119_鄉野騎跡', 'url': 'http://www.flca.tw/?fbclid=IwAR2CM_7bCXczJjYWkv_QMnJI62IrYbpEco-XR6tMXqWdKJ38NjhGuI-pg0Q'}|{'type': '自行車', 'name': '環大雲林自行車挑戰', 'url': 'https://www.facebook.com/EBBaoming/'}|{'type': '自行車', 'name': '環大苗栗經典百K挑戰', 'url': 'http://www.taiwanbike.org/index.php/477-2019-4'}\n",
      "-----------------------------------------------------\n",
      "{'type': '自行車', 'name': '2019 錠嵂百K 輪躍台南', 'url': 'https://bao-ming.com/eb/www/activity_content.php?activitysn=3602&contentsn=18329'}|{'type': '自行車', 'name': '2019經典新玉門關單車挑戰賽', 'url': 'https://www.focusline.com.tw/91013OF/Activities/Activities.aspx'}|{'type': '自行車', 'name': '2019屏東不落122 勇士騎福2', 'url': 'http://www.flca.tw/cycling01.php?id=195'}\n",
      "-----------------------------------------------------\n",
      "{'type': '自行車', 'name': '2019 永不放棄系列活動極限挑戰 洄瀾300K/100K', 'url': 'http://www.tpe-bike.org.tw/'}|{'type': '自行車', 'name': '2019康健人壽環花東自行車系列二-環花東365挑戰 ', 'url': 'http://www.cyclist.org.tw/event_txt.asp?pno=99'}|{'type': '自行車', 'name': '2019環花東365超級挑戰', 'url': 'http://www.cyclist.org.tw/'}\n",
      "-----------------------------------------------------\n",
      "{'type': '路跑', 'name': '2019 年宜蘭梅花湖全國鐵人三項錦標賽(半程)', 'url': 'https://bao-ming.com/eb/www/activity_content.php?activitysn=3528'}|{'type': '路跑', 'name': '新竹市城市馬拉松', 'url': 'http://baoming.irunner.com.tw/HSINCHUCITY2018'}|{'type': '路跑', 'name': '2019 第十一屆遠東新世紀經典馬拉松-志工馬', 'url': 'https://lohasnet.tw/Yuandong_vol_2019/'}\n",
      "-----------------------------------------------------\n",
      "{'type': '路跑', 'name': '2019 瓦祿來喜耐路跑賽', 'url': 'https://www.ibodygo.com.tw/EventTopic.aspx?n=736'}|{'type': '路跑', 'name': '天秤座超馬', 'url': 'https://www.ibodygo.com.tw/EventTopic.aspx?n=842'}|{'type': '路跑', 'name': '2020 誰與爭峰路跑賽', 'url': 'https://www.ibodygo.com.tw/EventTopic.aspx?n=908'}\n",
      "-----------------------------------------------------\n",
      "{'type': '路跑', 'name': 'RaidLight梅山越野3', 'url': 'https://www.facebook.com/events/1207719852721562/'}|{'type': '路跑', 'name': '奮起雲擁 2019 奮起湖159超級馬拉松', 'url': 'https://lohasnet.tw/FenCihu20190317/'}|{'type': '路跑', 'name': 'SHAPA-RUN 大將半程馬拉松', 'url': 'https://lohasnet.tw/SHAPARUN2019/'}\n",
      "-----------------------------------------------------\n",
      "{'type': '路跑', 'name': '2019 臺東馬拉松', 'url': 'https://www.ibodygo.com.tw/EventTopic.aspx?n=803'}|{'type': '路跑', 'name': '2019 雲朗觀光太魯閣峽谷馬拉松', 'url': 'http://baoming.irunner.com.tw/taroko2019'}|{'type': '路跑', 'name': 'IRONMAN 70.3 台灣', 'url': 'http://asia.ironman.com/zh-tw/triathlon/events/asiapac/ironman-70-3/taiwan/選手資訊/賽事日程表.aspx#axzz5NdwJ9Q1j'}\n",
      "-----------------------------------------------------\n",
      "{'type': '自行車', 'name': '第九屆超越巔峰 中央山脈極致挑戰', 'url': 'http://www.taiwanbike.org/'}|{'type': '自行車', 'name': '2019KHS桃園不落_騎機家庭日', 'url': 'http://www.flca.tw/?fbclid=IwAR13RzS9oJMc4F6fsa4DwHdj5fTb_Ti3qTmBtawLTxh-2XB4NSkIJ-iY1dU'}|{'type': '自行車', 'name': '飛越蘭陽噶瑪蘭-UPRO台灣100自行車系列-頭城三星站', 'url': 'https://www.u-pro.tw/new/index.php/activity_detail/192'}\n",
      "-----------------------------------------------------\n",
      "{'type': '自行車', 'name': '2019挑戰大三元', 'url': 'http://www.twbike.org/'}|{'type': '自行車', 'name': '環大苗栗經典百K挑戰', 'url': 'http://www.taiwanbike.org/index.php/477-2019-4'}|{'type': '自行車', 'name': '2019KHS彰化不落119_鄉野騎跡', 'url': 'http://www.flca.tw/?fbclid=IwAR2CM_7bCXczJjYWkv_QMnJI62IrYbpEco-XR6tMXqWdKJ38NjhGuI-pg0Q'}\n",
      "-----------------------------------------------------\n",
      "{'type': '自行車', 'name': '2019 錠嵂百K 輪躍台南', 'url': 'https://bao-ming.com/eb/www/activity_content.php?activitysn=3602&contentsn=18329'}|{'type': '自行車', 'name': '2019屏東不落122 勇士騎福2', 'url': 'http://www.flca.tw/cycling01.php?id=195'}|{'type': '自行車', 'name': '超越2019北高挑戰行', 'url': 'https://www.eventpal.com.tw/20190228.html'}\n",
      "-----------------------------------------------------\n",
      "{'type': '自行車', 'name': '2019 永不放棄系列活動極限挑戰 洄瀾300K/100K', 'url': 'http://www.tpe-bike.org.tw/'}|{'type': '自行車', 'name': '2019環花東365超級挑戰', 'url': 'http://www.cyclist.org.tw/'}|{'type': '自行車', 'name': '2019 雙港 240 (雙主場)', 'url': 'http://www.twbike.org/'}\n",
      "-----------------------------------------------------\n"
     ]
    }
   ],
   "source": [
    "while True:\n",
    "    try:\n",
    "        #與longdb連線\n",
    "        cnxn=pyodbc.connect(\"DSN=SpliceODBC64\")\n",
    "        #sql指令容器\n",
    "        cursor=cnxn.cursor()\n",
    "        running_north_list = random.sample(game(\"run\",\"north\"), k=3)\n",
    "        running_north = str(running_north_list[0])+\"|\"+str(running_north_list[1])+\"|\"+str(running_north_list[2])\n",
    "        print(running_north)\n",
    "        print('-----------------------------------------------------')\n",
    "        running_center_list = random.sample(game(\"run\",\"center\"), k=3)\n",
    "        running_center = str(running_center_list[0])+\"|\"+str(running_center_list[1])+\"|\"+str(running_center_list[2])\n",
    "        print(running_center)\n",
    "        print('-----------------------------------------------------')\n",
    "        running_south_list = random.sample(game(\"run\",\"south\"), k=3)\n",
    "        running_south = str(running_south_list[0])+\"|\"+str(running_south_list[1])+\"|\"+str(running_south_list[2])\n",
    "        print(running_south)\n",
    "        print('-----------------------------------------------------')\n",
    "        running_east_list = random.sample(game(\"run\",\"east\"), k=3)\n",
    "        running_east = str(running_east_list[0])+\"|\"+str(running_east_list[1])+\"|\"+str(running_east_list[2])\n",
    "        print(running_east)\n",
    "        print('-----------------------------------------------------')\n",
    "        cycling_north_list = random.sample(game(\"ride\",\"north\"), k=3)\n",
    "        cycling_north = str(cycling_north_list[0])+\"|\"+str(cycling_north_list[1])+\"|\"+str(cycling_north_list[2])\n",
    "        print(cycling_north)\n",
    "        print('-----------------------------------------------------')\n",
    "        cycling_center_list = random.sample(game(\"ride\",\"center\"), k=3)\n",
    "        cycling_center = str(cycling_center_list[0])+\"|\"+str(cycling_center_list[1])+\"|\"+str(cycling_center_list[2])\n",
    "        print(cycling_center)\n",
    "        print('-----------------------------------------------------')\n",
    "        cycling_south_list = random.sample(game(\"ride\",\"south\"), k=3)\n",
    "        cycling_south = str(cycling_south_list[0])+\"|\"+str(cycling_south_list[1])+\"|\"+str(cycling_south_list[2])\n",
    "        print(cycling_south)\n",
    "        print('-----------------------------------------------------')\n",
    "        cycling_east_list = random.sample(game(\"ride\",\"east\"), k=3)\n",
    "        cycling_east = str(cycling_east_list[0])+\"|\"+str(cycling_east_list[1])+\"|\"+str(cycling_east_list[2])\n",
    "        print(cycling_east)\n",
    "        print('-----------------------------------------------------')\n",
    "        cursor.close()\n",
    "        cnxn.close()\n",
    "        \n",
    "        r.hmset('running_race', {'North': running_north, 'Center': running_center, 'South': running_south, 'East': running_east})\n",
    "        r.hmset('cycling_race', {'North': cycling_north, 'Center': cycling_center, 'South': cycling_south, 'East': cycling_east})\n",
    "\n",
    "        time.sleep(1800)\n",
    "    except KeyboardInterrupt:\n",
    "        break"
   ]
  },
  {
   "cell_type": "code",
   "execution_count": null,
   "metadata": {},
   "outputs": [],
   "source": [
    "# R = r.hmget('running_race',['North', 'Center', 'South', 'East']) #R是跑步list\n",
    "# print(R[0].decode()) #北\n",
    "# print(R[1].decode()) #中\n",
    "# print(R[2].decode()) #南\n",
    "# print(R[3].decode()) #東\n",
    "# C = r.hmget('cycling_race',['North', 'Center', 'South', 'East']) #C是單車list"
   ]
  }
 ],
 "metadata": {
  "kernelspec": {
   "display_name": "Python 3",
   "language": "python",
   "name": "python3"
  },
  "language_info": {
   "codemirror_mode": {
    "name": "ipython",
    "version": 3
   },
   "file_extension": ".py",
   "mimetype": "text/x-python",
   "name": "python",
   "nbconvert_exporter": "python",
   "pygments_lexer": "ipython3",
   "version": "3.7.3"
  }
 },
 "nbformat": 4,
 "nbformat_minor": 2
}
