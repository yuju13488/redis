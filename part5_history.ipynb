{
 "cells": [
  {
   "cell_type": "code",
   "execution_count": 26,
   "metadata": {},
   "outputs": [],
   "source": [
    "import random\n",
    "import time\n",
    "import redis\n",
    "import json\n",
    "import pyodbc\n",
    "r = redis.Redis(host='192.168.80.166', port=6379)"
   ]
  },
  {
   "cell_type": "code",
   "execution_count": 27,
   "metadata": {},
   "outputs": [
    {
     "data": {
      "text/plain": [
       "True"
      ]
     },
     "execution_count": 27,
     "metadata": {},
     "output_type": "execute_result"
    }
   ],
   "source": [
    "device_id = \"800\"\n",
    "record1 = \"{'user_id': '800', 'start': '2019-11-4 16:17:22', 'end': '2019-11-4 17:37:35', 'avg_pace': 8.21, 'bpm': 132, 'time_total': '1:20:13', 'distance': 9.77}\"\n",
    "record2 = \"{'user_id': '800', 'start': '2019-11-5 16:11:42', 'end': '2019-11-5 17:30:14', 'avg_pace': 8.07, 'bpm': 129, 'time_total': '1:18:32', 'distance': 9.73}\"\n",
    "record3 = \"{'user_id': '800', 'start': '2019-11-6 17:20:13', 'end': '2019-11-6 18:33:40', 'avg_pace': 7.47, 'bpm': 143, 'time_total': '1:13:27', 'distance': 9.83}\"\n",
    "record4 = \"{'user_id': '800', 'start': '2019-11-7 17:42:29', 'end': '2019-11-7 18:50:25', 'avg_pace': 7.53, 'bpm': 137, 'time_total': '1:07:56', 'distance': 9.02}\"\n",
    "record5 = \"{'user_id': '800', 'start': '2019-11-8 18:27:58', 'end': '2019-11-8 19:25:41', 'avg_pace': 8.43, 'bpm': 127, 'time_total': '0:57:43', 'distance': 6.85}\"\n",
    "r.hmset(device_id, {\"1\": record1, \"2\": record2, \"3\": record3, \"4\": record4, \"5\": record5})"
   ]
  },
  {
   "cell_type": "code",
   "execution_count": 28,
   "metadata": {},
   "outputs": [],
   "source": [
    "#get all values in name device_id = \"800\"\n",
    "record_list = r.hvals(device_id)\n",
    "for i in range(0, len(record_list)):\n",
    "    record_dict = eval(record_list[i])\n",
    "    user_id = record_dict['user_id']\n",
    "    start = record_dict['start']\n",
    "    end = record_dict['end']\n",
    "    avg_pace = str(record_dict['avg_pace'])\n",
    "    bpm = str(record_dict['bpm'])\n",
    "    time_total = record_dict['time_total']\n",
    "    distance = str(record_dict['distance'])\n",
    "    exercise = 'run'\n",
    "    cursor.execute(\"INSERT INTO SPLICE.HISTORY VALUES('\"+user_id+\"','\"+bpm+\"','\"+avg_pace+\"','\"+distance+\"','\"+time_total+\"','\"+start+\"','\"+end+\"','\"+exercise+\"')\")\n",
    "    cnxn.commit()\n",
    "    if i == len(record_list)-1:\n",
    "        print('Finished')"
   ]
  },
  {
   "cell_type": "code",
   "execution_count": null,
   "metadata": {},
   "outputs": [],
   "source": []
  }
 ],
 "metadata": {
  "kernelspec": {
   "display_name": "Python 3",
   "language": "python",
   "name": "python3"
  },
  "language_info": {
   "codemirror_mode": {
    "name": "ipython",
    "version": 3
   },
   "file_extension": ".py",
   "mimetype": "text/x-python",
   "name": "python",
   "nbconvert_exporter": "python",
   "pygments_lexer": "ipython3",
   "version": "3.7.3"
  }
 },
 "nbformat": 4,
 "nbformat_minor": 2
}
