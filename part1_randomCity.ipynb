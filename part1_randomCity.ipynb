{
 "cells": [
  {
   "cell_type": "code",
   "execution_count": 1,
   "metadata": {},
   "outputs": [],
   "source": [
    "import random\n",
    "import time\n",
    "import redis\n",
    "import json\n",
    "r = redis.Redis(host='192.168.80.166', port=6379)"
   ]
  },
  {
   "cell_type": "code",
   "execution_count": null,
   "metadata": {},
   "outputs": [],
   "source": [
    "#random city in different area\n",
    "while True:\n",
    "    try:\n",
    "        north_area = random.choice(['臺北', '新北', '基隆', '桃園', '新竹', '宜蘭'])\n",
    "        center_area = random.choice(['苗栗', '臺中', '彰化', '南投', '雲林'])\n",
    "        south_area = random.choice(['嘉義', '臺南', '高雄', '屏東', '澎湖'])\n",
    "        r.hmset('area',{'North': north_area, 'Center': center_area, 'South': south_area})\n",
    "        time.sleep(2)\n",
    "    except KeyboardInterrupt:\n",
    "        break"
   ]
  },
  {
   "cell_type": "code",
   "execution_count": null,
   "metadata": {},
   "outputs": [],
   "source": [
    "# #random city in different area\n",
    "# while True:\n",
    "#     try:\n",
    "#         north_area = random.choice(['臺北市', '新北市', '基隆市', '桃園市', '新竹縣市', '宜蘭縣'])\n",
    "#         center_area = random.choice(['苗栗縣', '臺中市', '彰化縣', '南投縣', '雲林縣'])\n",
    "#         south_area = random.choice(['嘉義縣市', '臺南市', '高雄市', '屏東縣', '澎湖縣'])\n",
    "#         #east_area = random.choice(['花蓮縣', '臺東縣'])\n",
    "#         r.hmset('area',{'North': north_area, 'Center': center_area, 'South': south_area})\n",
    "#         time.sleep(2)\n",
    "#     except KeyboardInterrupt:\n",
    "#         break"
   ]
  },
  {
   "cell_type": "code",
   "execution_count": null,
   "metadata": {},
   "outputs": [],
   "source": [
    "#receive\n",
    "# while True:\n",
    "#     city = r.hmget('area',['North', 'Center', 'South'])\n",
    "#     print('City:', city[0].decode(), city[1].decode(), city[2].decode())\n",
    "#     time.sleep(2)"
   ]
  }
 ],
 "metadata": {
  "kernelspec": {
   "display_name": "Python 3",
   "language": "python",
   "name": "python3"
  },
  "language_info": {
   "codemirror_mode": {
    "name": "ipython",
    "version": 3
   },
   "file_extension": ".py",
   "mimetype": "text/x-python",
   "name": "python",
   "nbconvert_exporter": "python",
   "pygments_lexer": "ipython3",
   "version": "3.7.3"
  }
 },
 "nbformat": 4,
 "nbformat_minor": 2
}
